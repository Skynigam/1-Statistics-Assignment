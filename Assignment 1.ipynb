{
 "cells": [
  {
   "cell_type": "markdown",
   "id": "8ea54140-dc08-4c7f-a78d-772abe602640",
   "metadata": {},
   "source": [
    "# Question 1"
   ]
  },
  {
   "cell_type": "markdown",
   "id": "29fb4d84-e784-4678-a4b4-7fd89ebeeb83",
   "metadata": {},
   "source": [
    "Statistics is the science of collecting, organizing and analyzing the data with a purpose of drawing conlclusions from it.\n"
   ]
  },
  {
   "cell_type": "markdown",
   "id": "45d3e610-8ff4-47df-8bb1-d4c0f6d774e6",
   "metadata": {},
   "source": [
    "# Question 2"
   ]
  },
  {
   "cell_type": "markdown",
   "id": "43024337-a9f6-4b49-ad5f-f96e306ea670",
   "metadata": {},
   "source": [
    "There are two types of statistics-\n",
    "\n",
    "i. Descriptive Statistics- It consists of organizing and summarizing the data. For eg., Height of students is given-{190 cm, 185 cm, 170 cm, 175 cm}. Finding the average height will be a descriptive statistics.\n",
    "Median, Mode, Variance, etc all come under descriptive statistics.\n",
    "\n",
    "ii. Inferential Statistics- It consists of using the collected data to form conclusions. For eg. Proving whether the null hypothesis which we have taken is true or not true."
   ]
  },
  {
   "cell_type": "markdown",
   "id": "f401c8b6-eebd-41ac-875f-8d77f78c7d3d",
   "metadata": {},
   "source": [
    "# Question 3"
   ]
  },
  {
   "cell_type": "markdown",
   "id": "df382edb-da35-4c93-a584-75e480b169e5",
   "metadata": {},
   "source": [
    "There are two types of data-\n",
    "\n",
    "i. Quantitative Data- These are numerical data which can be measured. This data can be used to perform operations such as +, -, %, /, *, etc. For eg, No. of children in a family, weight, height, etc.\n",
    "\n",
    "ii. Qualitative Data- These are categorical data which cannot be measured. For example- Gender, Blood Group, Customers feedback, etc."
   ]
  },
  {
   "cell_type": "markdown",
   "id": "1fa4d56a-dd5f-4895-8ee1-b4bbaba150ca",
   "metadata": {},
   "source": [
    "# Question 4"
   ]
  },
  {
   "cell_type": "markdown",
   "id": "d50208eb-e4c6-4e53-a495-7c8fe99b1fcb",
   "metadata": {},
   "source": [
    "i. Qualitative Data\n",
    "ii. Qualitative Data\n",
    "iii. Quantitative Data\n",
    "iv. Quantitative Data"
   ]
  },
  {
   "cell_type": "markdown",
   "id": "715af4f2-8581-4005-b132-ece42d01ede1",
   "metadata": {},
   "source": [
    "# Question 5"
   ]
  },
  {
   "cell_type": "markdown",
   "id": "dbdb2a8c-52ac-4f96-9f4c-579d49297fce",
   "metadata": {},
   "source": [
    "Levels of measurement refer to the different ways in which variables can be measured or classified. There are four levels of measurement: nominal, ordinal, interval, and ratio.\n",
    "\n",
    "1. Nominal: This level of measurement is used to classify variables into categories that have no inherent order or ranking. Examples of nominal variables include gender (male/female), eye color (blue/brown/green), and country of origin.\n",
    "\n",
    "2. Ordinal: This level of measurement is used to rank variables in a specific order or sequence. However, the distance between the values is not equal. Examples of ordinal variables include education level (elementary/middle/high school/college), income level (low/middle/high), and degree of satisfaction (very satisfied/somewhat satisfied/not satisfied).\n",
    "\n",
    "3. Interval: This level of measurement is used to measure variables where the distance between the values is equal, but there is no true zero point. Examples of interval variables include temperature (measured in Celsius or Fahrenheit), IQ scores, and time (measured in hours, minutes, seconds).\n",
    "\n",
    "4. Ratio: This level of measurement is used to measure variables where there is a true zero point and the distance between the values is equal. Examples of ratio variables include height, weight, age, and income."
   ]
  },
  {
   "cell_type": "markdown",
   "id": "c1a5cd9a-08fe-4edf-b602-0bb9ad7f2615",
   "metadata": {},
   "source": [
    "# Question 6"
   ]
  },
  {
   "cell_type": "markdown",
   "id": "ead9d5b2-7764-42c2-85bf-ed182857e031",
   "metadata": {},
   "source": [
    "It is important to understand the level of measurement when analyzing data because it determines which statistical tests can be used to analyze the data. Using the wrong statistical test can lead to inaccurate results and conclusions.\n",
    "\n",
    "For example, if a researcher wants to compare the heights of two groups of people, they need to know whether the height data is measured on an interval or ratio scale. If it is measured on an interval scale (e.g. in centimeters), they would use a t-test to compare the means of the two groups. However, if it is measured on a ratio scale (e.g. in inches), they would use a different test called an independent samples t-test. If the researcher doesn't understand the level of measurement of the height data, they may use the wrong test and draw incorrect conclusions about the differences between the two groups."
   ]
  },
  {
   "cell_type": "markdown",
   "id": "e4a93aa6-c5ad-496d-aaac-c6ce8a4c72eb",
   "metadata": {},
   "source": [
    "# Question 7"
   ]
  },
  {
   "cell_type": "markdown",
   "id": "c4a60ba8-e970-4073-add5-9e4caedac535",
   "metadata": {},
   "source": [
    "Nominal data is a categorical data type where the values represent different categories or groups, but there is no inherent order or ranking between them. Examples of nominal data include gender, race, and favorite color. The values can be assigned numbers for coding purposes, but these numbers do not have any mathematical meaning.\n",
    "\n",
    "On the other hand, ordinal data is a categorical data type where the values represent different categories or groups, and there is a clear order or ranking between them. Examples of ordinal data include education level (e.g. high school, college, graduate degree) and satisfaction level (e.g. very satisfied, somewhat satisfied, neutral, somewhat dissatisfied, very dissatisfied). The values can be assigned numbers for coding purposes, and these numbers have a meaningful order."
   ]
  },
  {
   "cell_type": "markdown",
   "id": "e5584163-e083-4fcd-9b3f-7466eb656b34",
   "metadata": {},
   "source": [
    "# Question 8"
   ]
  },
  {
   "cell_type": "markdown",
   "id": "9e9e5df2-5d0e-49d7-b3a2-ad8cffb0e971",
   "metadata": {},
   "source": [
    "A box plot can be used to display data in terms of range. It shows the minimum and maximum values, as well as the quartiles and median of the data."
   ]
  },
  {
   "cell_type": "markdown",
   "id": "197b395c-cba0-4ef4-a826-cb972e8aae09",
   "metadata": {},
   "source": [
    "# Question 9"
   ]
  },
  {
   "cell_type": "markdown",
   "id": "2164091b-31f8-4e7c-8df9-bf16c04978c8",
   "metadata": {},
   "source": [
    "Descriptive statistics involve summarizing and describing data using measures such as mean, median, mode, range, and standard deviation. These statistics are used to provide a snapshot of the data and to help identify patterns and relationships within the data. For example, a researcher may use descriptive statistics to summarize the heights of a group of people by calculating the mean height, median height, and range of heights.\n",
    "\n",
    "Inferential statistics involve using sample data to make inferences or predictions about a larger population. These statistics are used to test hypotheses and to determine the probability that a particular outcome occurred by chance. For example, a researcher may use inferential statistics to determine whether a new drug is more effective than an existing drug by comparing the outcomes of two groups of patients who received different treatments.\n",
    "\n",
    "Overall, descriptive statistics provide a summary of the data, while inferential statistics help to draw conclusions and make predictions about a larger population based on sample data."
   ]
  },
  {
   "cell_type": "markdown",
   "id": "7ad9b6f4-6768-49f9-a3ef-0cac77d201e4",
   "metadata": {},
   "source": [
    "# Question 10"
   ]
  },
  {
   "cell_type": "markdown",
   "id": "a89a9790-ca42-4164-95a3-05d3064a2fae",
   "metadata": {},
   "source": [
    "Common measures of central tendency include the mean, median, and mode. \n",
    "i. The mean is the average of all the values in a dataset and is often used to represent the typical value. \n",
    "ii. The median is the middle value in a dataset when the values are arranged in order, and is often used when there are extreme values or outliers that could skew the mean. \n",
    "iii. The mode is the value that occurs most frequently in a dataset and is often used to describe the most common value.\n",
    "\n",
    "Common measures of variability include the range, variance, and standard deviation. \n",
    "i. The range is the difference between the largest and smallest values in a dataset and provides a measure of how spread out the data is. \n",
    "ii. The variance measures how far each value in the dataset is from the mean.\n",
    "iii. The standard deviation is the square root of the variance and provides a measure of how much the data deviates from the mean. These measures of variability can be used to describe how much variation or dispersion there is in the data."
   ]
  },
  {
   "cell_type": "code",
   "execution_count": null,
   "id": "06e4a1d9-31a7-4868-9b18-f5fa6bdba2ed",
   "metadata": {},
   "outputs": [],
   "source": []
  }
 ],
 "metadata": {
  "kernelspec": {
   "display_name": "Python 3 (ipykernel)",
   "language": "python",
   "name": "python3"
  },
  "language_info": {
   "codemirror_mode": {
    "name": "ipython",
    "version": 3
   },
   "file_extension": ".py",
   "mimetype": "text/x-python",
   "name": "python",
   "nbconvert_exporter": "python",
   "pygments_lexer": "ipython3",
   "version": "3.10.8"
  }
 },
 "nbformat": 4,
 "nbformat_minor": 5
}
